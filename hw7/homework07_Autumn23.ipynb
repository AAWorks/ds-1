{
 "cells": [
  {
   "cell_type": "markdown",
   "metadata": {},
   "source": [
    "# DATA 11800 (Section 1), Autumn 2023\n",
    "\n",
    "# Homework 7: A/B testing and fuzzy matching (50 points)\n",
    "\n",
    "Please complete this notebook by filling in the cells provided.\n",
    "\n",
    "The solved homework should be uploaded to Canvas as an .ipynb file. DO NOT put your answers in more than one file or use a different file extension.\n",
    "\n",
    "Make sure to RUN ALL CELLS IN YOUR NOTEBOOK before submitting.  All of your answers should be printed and easy for graders to find if you want full credit for your work.\n"
   ]
  },
  {
   "cell_type": "markdown",
   "metadata": {},
   "source": [
    "#### Deadline:\n",
    "\n",
    "This assignment is due on **Friday, December 1 at 11:59pm**. Late work will not be accepted unless you have made special arrangements with the instructor.\n",
    "\n",
    "Directly sharing answers is not okay, but discussing problems with the course staff is encouraged, and with other students is allowed.\n",
    "\n",
    "You should start early so that you have time to get help if you're stuck.\n"
   ]
  },
  {
   "cell_type": "code",
   "execution_count": 3,
   "metadata": {},
   "outputs": [],
   "source": [
    "# Don't change this cell; just run it. \n",
    "\n",
    "import numpy as np\n",
    "import pandas as pd\n",
    "\n",
    "import matplotlib\n",
    "%matplotlib inline\n",
    "import matplotlib.pyplot as plt\n",
    "plt.style.use('fivethirtyeight')\n",
    "import warnings\n",
    "warnings.simplefilter(action=\"ignore\", category=FutureWarning)"
   ]
  },
  {
   "cell_type": "markdown",
   "metadata": {},
   "source": [
    "# 1. Possum metrology (25 points) \n",
    "\n",
    "The data for this exercise were collected in Australia and New Guinea and represent various measurements of possum dimensions of 102 animals caught at 7 locations in Victoria, New South Wales, and Queensland in October and November of 1993. Source of data: \n",
    "\n",
    "Lindenmayer, D. B., Viggers, K. L., Cunningham, R. B., and Donnelly, C. F. 1995. Morphological variation among columns of the mountain brushtail possum, Trichosurus caninus Ogilby (Phalangeridae: Marsupiala). Australian Journal of Zoology 43: 449-458. \n",
    "\n",
    "Variables in the dataset:\n",
    "\n",
    "- site: one of seven locations where possums were trapped. The sites were, in order, Cambarville, Bellbird, Whian Whian, Byrangery, Conondale, Allyn River and Bulburin\n",
    "- pop:  a factor which classifies the sites as Vic (for Victoria) and other (New South Wales or Queensland)\n",
    "- sex: a factor with levels f (female), m (male)\n",
    "- age\n",
    "- head_l:  head length\n",
    "- skull_w:  skull width\n",
    "- total_l: total length\n",
    "- tail_l: tail length\n",
    "\n",
    "We believe that the units for `age` is  years, for `head_l`, `skull_w` and `tail_l` are mm; possums are about 20 inches long so let's assume that `total_l` is in cm.  \n"
   ]
  },
  {
   "cell_type": "code",
   "execution_count": 4,
   "metadata": {},
   "outputs": [
    {
     "data": {
      "text/html": [
       "<div>\n",
       "<style scoped>\n",
       "    .dataframe tbody tr th:only-of-type {\n",
       "        vertical-align: middle;\n",
       "    }\n",
       "\n",
       "    .dataframe tbody tr th {\n",
       "        vertical-align: top;\n",
       "    }\n",
       "\n",
       "    .dataframe thead th {\n",
       "        text-align: right;\n",
       "    }\n",
       "</style>\n",
       "<table border=\"1\" class=\"dataframe\">\n",
       "  <thead>\n",
       "    <tr style=\"text-align: right;\">\n",
       "      <th></th>\n",
       "      <th>site</th>\n",
       "      <th>pop</th>\n",
       "      <th>sex</th>\n",
       "      <th>age</th>\n",
       "      <th>head_l</th>\n",
       "      <th>skull_w</th>\n",
       "      <th>total_l</th>\n",
       "      <th>tail_l</th>\n",
       "    </tr>\n",
       "  </thead>\n",
       "  <tbody>\n",
       "    <tr>\n",
       "      <th>0</th>\n",
       "      <td>1</td>\n",
       "      <td>Vic</td>\n",
       "      <td>m</td>\n",
       "      <td>8.0</td>\n",
       "      <td>94.1</td>\n",
       "      <td>60.4</td>\n",
       "      <td>89.0</td>\n",
       "      <td>36.0</td>\n",
       "    </tr>\n",
       "    <tr>\n",
       "      <th>1</th>\n",
       "      <td>1</td>\n",
       "      <td>Vic</td>\n",
       "      <td>f</td>\n",
       "      <td>6.0</td>\n",
       "      <td>92.5</td>\n",
       "      <td>57.6</td>\n",
       "      <td>91.5</td>\n",
       "      <td>36.5</td>\n",
       "    </tr>\n",
       "    <tr>\n",
       "      <th>2</th>\n",
       "      <td>1</td>\n",
       "      <td>Vic</td>\n",
       "      <td>f</td>\n",
       "      <td>6.0</td>\n",
       "      <td>94.0</td>\n",
       "      <td>60.0</td>\n",
       "      <td>95.5</td>\n",
       "      <td>39.0</td>\n",
       "    </tr>\n",
       "    <tr>\n",
       "      <th>3</th>\n",
       "      <td>1</td>\n",
       "      <td>Vic</td>\n",
       "      <td>f</td>\n",
       "      <td>6.0</td>\n",
       "      <td>93.2</td>\n",
       "      <td>57.1</td>\n",
       "      <td>92.0</td>\n",
       "      <td>38.0</td>\n",
       "    </tr>\n",
       "    <tr>\n",
       "      <th>4</th>\n",
       "      <td>1</td>\n",
       "      <td>Vic</td>\n",
       "      <td>f</td>\n",
       "      <td>2.0</td>\n",
       "      <td>91.5</td>\n",
       "      <td>56.3</td>\n",
       "      <td>85.5</td>\n",
       "      <td>36.0</td>\n",
       "    </tr>\n",
       "  </tbody>\n",
       "</table>\n",
       "</div>"
      ],
      "text/plain": [
       "   site  pop sex  age  head_l  skull_w  total_l  tail_l\n",
       "0     1  Vic   m  8.0    94.1     60.4     89.0    36.0\n",
       "1     1  Vic   f  6.0    92.5     57.6     91.5    36.5\n",
       "2     1  Vic   f  6.0    94.0     60.0     95.5    39.0\n",
       "3     1  Vic   f  6.0    93.2     57.1     92.0    38.0\n",
       "4     1  Vic   f  2.0    91.5     56.3     85.5    36.0"
      ]
     },
     "execution_count": 4,
     "metadata": {},
     "output_type": "execute_result"
    }
   ],
   "source": [
    "# read the data\n",
    "p_df = pd.read_csv(\"possum.csv\")\n",
    "p_df.head()"
   ]
  },
  {
   "cell_type": "code",
   "execution_count": 5,
   "metadata": {
    "scrolled": true
   },
   "outputs": [
    {
     "data": {
      "text/html": [
       "<div>\n",
       "<style scoped>\n",
       "    .dataframe tbody tr th:only-of-type {\n",
       "        vertical-align: middle;\n",
       "    }\n",
       "\n",
       "    .dataframe tbody tr th {\n",
       "        vertical-align: top;\n",
       "    }\n",
       "\n",
       "    .dataframe thead th {\n",
       "        text-align: right;\n",
       "    }\n",
       "</style>\n",
       "<table border=\"1\" class=\"dataframe\">\n",
       "  <thead>\n",
       "    <tr style=\"text-align: right;\">\n",
       "      <th></th>\n",
       "      <th>site</th>\n",
       "      <th>age</th>\n",
       "      <th>head_l</th>\n",
       "      <th>skull_w</th>\n",
       "      <th>total_l</th>\n",
       "      <th>tail_l</th>\n",
       "    </tr>\n",
       "  </thead>\n",
       "  <tbody>\n",
       "    <tr>\n",
       "      <th>count</th>\n",
       "      <td>104.000000</td>\n",
       "      <td>102.000000</td>\n",
       "      <td>104.000000</td>\n",
       "      <td>104.000000</td>\n",
       "      <td>104.000000</td>\n",
       "      <td>104.000000</td>\n",
       "    </tr>\n",
       "    <tr>\n",
       "      <th>mean</th>\n",
       "      <td>3.625000</td>\n",
       "      <td>3.833333</td>\n",
       "      <td>92.602885</td>\n",
       "      <td>56.883654</td>\n",
       "      <td>87.088462</td>\n",
       "      <td>37.009615</td>\n",
       "    </tr>\n",
       "    <tr>\n",
       "      <th>std</th>\n",
       "      <td>2.349086</td>\n",
       "      <td>1.909244</td>\n",
       "      <td>3.573349</td>\n",
       "      <td>3.113426</td>\n",
       "      <td>4.310549</td>\n",
       "      <td>1.959518</td>\n",
       "    </tr>\n",
       "    <tr>\n",
       "      <th>min</th>\n",
       "      <td>1.000000</td>\n",
       "      <td>1.000000</td>\n",
       "      <td>82.500000</td>\n",
       "      <td>50.000000</td>\n",
       "      <td>75.000000</td>\n",
       "      <td>32.000000</td>\n",
       "    </tr>\n",
       "    <tr>\n",
       "      <th>25%</th>\n",
       "      <td>1.000000</td>\n",
       "      <td>2.250000</td>\n",
       "      <td>90.675000</td>\n",
       "      <td>54.975000</td>\n",
       "      <td>84.000000</td>\n",
       "      <td>35.875000</td>\n",
       "    </tr>\n",
       "    <tr>\n",
       "      <th>50%</th>\n",
       "      <td>3.000000</td>\n",
       "      <td>3.000000</td>\n",
       "      <td>92.800000</td>\n",
       "      <td>56.350000</td>\n",
       "      <td>88.000000</td>\n",
       "      <td>37.000000</td>\n",
       "    </tr>\n",
       "    <tr>\n",
       "      <th>75%</th>\n",
       "      <td>6.000000</td>\n",
       "      <td>5.000000</td>\n",
       "      <td>94.725000</td>\n",
       "      <td>58.100000</td>\n",
       "      <td>90.000000</td>\n",
       "      <td>38.000000</td>\n",
       "    </tr>\n",
       "    <tr>\n",
       "      <th>max</th>\n",
       "      <td>7.000000</td>\n",
       "      <td>9.000000</td>\n",
       "      <td>103.100000</td>\n",
       "      <td>68.600000</td>\n",
       "      <td>96.500000</td>\n",
       "      <td>43.000000</td>\n",
       "    </tr>\n",
       "  </tbody>\n",
       "</table>\n",
       "</div>"
      ],
      "text/plain": [
       "             site         age      head_l     skull_w     total_l      tail_l\n",
       "count  104.000000  102.000000  104.000000  104.000000  104.000000  104.000000\n",
       "mean     3.625000    3.833333   92.602885   56.883654   87.088462   37.009615\n",
       "std      2.349086    1.909244    3.573349    3.113426    4.310549    1.959518\n",
       "min      1.000000    1.000000   82.500000   50.000000   75.000000   32.000000\n",
       "25%      1.000000    2.250000   90.675000   54.975000   84.000000   35.875000\n",
       "50%      3.000000    3.000000   92.800000   56.350000   88.000000   37.000000\n",
       "75%      6.000000    5.000000   94.725000   58.100000   90.000000   38.000000\n",
       "max      7.000000    9.000000  103.100000   68.600000   96.500000   43.000000"
      ]
     },
     "execution_count": 5,
     "metadata": {},
     "output_type": "execute_result"
    }
   ],
   "source": [
    "# some data summaries\n",
    "p_df.describe()"
   ]
  },
  {
   "cell_type": "markdown",
   "metadata": {},
   "source": [
    "**Question 1.** Produce an adequately-labeled scatterplot of total length (y axis) vs. age (x axis). Explain why the plot has prominent vertical lines."
   ]
  },
  {
   "cell_type": "code",
   "execution_count": 6,
   "metadata": {},
   "outputs": [
    {
     "data": {
      "image/png": "[encoded data removed]",
      "text/plain": [
       "<Figure size 432x288 with 1 Axes>"
      ]
     },
     "metadata": {},
     "output_type": "display_data"
    }
   ],
   "source": [
    "# code here\n",
    "plt.scatter(y=p_df.total_l, x=p_df.age)\n",
    "plt.xlabel(\"Age\")\n",
    "plt.ylabel(\"Total Length\")\n",
    "plt.title(\"Total Length by Age\")\n",
    "plt.show()"
   ]
  },
  {
   "cell_type": "markdown",
   "metadata": {},
   "source": [
    "*Answer:* The plot has prominent vertical lines because elements in the age Series are whole numbers. Due to this, there won't be any data points on non-whole number x-values.\n"
   ]
  },
  {
   "cell_type": "markdown",
   "metadata": {},
   "source": [
    "**Question 2.** Test for sexual dimorphism in the skull width measurement in the sampled possums.  (Do the male and female possums have different skull widths?)  This should be done using the permutation method. Display the (permutation generated) null distribution of your test statistic and the observed value of the test statistic. Report the p-value for this null hypothesis that the two sexes have the same skull width distribution."
   ]
  },
  {
   "cell_type": "code",
   "execution_count": 20,
   "metadata": {},
   "outputs": [
    {
     "name": "stdout",
     "output_type": "stream",
     "text": [
      "Observed Difference: 0.5034311856652636\n",
      "Empirical P-value: 0.4226\n"
     ]
    },
    {
     "data": {
      "image/png": "[encoded data removed]",
      "text/plain": [
       "<Figure size 432x288 with 1 Axes>"
      ]
     },
     "metadata": {},
     "output_type": "display_data"
    }
   ],
   "source": [
    "differences = np.array([])\n",
    "\n",
    "for i in np.arange(10_000):\n",
    "    shuffled_weights = p_df.sample(frac=1, replace = False).skull_w.values\n",
    "    shuffled_df=pd.DataFrame({\"Shuffled Weights\": shuffled_weights,\"Sex\": p_df.sex})\n",
    "    smeans_df=shuffled_df.groupby('Sex').mean()\n",
    "    new_diff=smeans_df.iloc[1]-smeans_df.iloc[0]\n",
    "    differences = np.append(differences, new_diff)\n",
    "\n",
    "observed_means = p_df[[\"sex\", \"skull_w\"]].groupby(\"sex\").mean().skull_w\n",
    "observed_difference = observed_means[1] - observed_means[0]\n",
    "empirical_P = (np.count_nonzero(differences >= observed_difference) + np.count_nonzero(differences <= -observed_difference)) / 10000\n",
    "\n",
    "pd.DataFrame({'Difference Between Group Averages': differences}).plot.hist()\n",
    "plt.axvline(x=observed_difference, color='red', linestyle='dashed', linewidth='3')\n",
    "plt.title('Prediction Under the Null Hypothesis')\n",
    "plt.xlabel(\"Difference\")\n",
    "print('Observed Difference:', observed_difference)\n",
    "print('Empirical P-value:', empirical_P)"
   ]
  },
  {
   "cell_type": "markdown",
   "metadata": {},
   "source": [
    "**Question 3.** Similarly to Question 2, test the hypothesis of equality in distributions for the tail lengths of male possums sampled in Victoria (sites 1 and 2) and the tail lengths of male possums sampled outside of Victoria.\n",
    "\n",
    "This should be done using the permutation method. Display the (permutation generated) null distribution of your test statistics and the observed value of the test statistic. Report the p-value for this null hypothesis that the two groups have the same tail length distribution."
   ]
  },
  {
   "cell_type": "code",
   "execution_count": 22,
   "metadata": {},
   "outputs": [
    {
     "name": "stdout",
     "output_type": "stream",
     "text": [
      "site\n",
      "0    37.75641\n",
      "1    35.50000\n",
      "Name: tail_l, dtype: float64\n",
      "Observed Difference: -2.2564102564102555\n",
      "Empirical P-value: 2.0\n"
     ]
    },
    {
     "data": {
      "image/png": "[encoded data removed]",
      "text/plain": [
       "<Figure size 432x288 with 1 Axes>"
      ]
     },
     "metadata": {},
     "output_type": "display_data"
    }
   ],
   "source": [
    "# code here\n",
    "differences = np.array([])\n",
    "\n",
    "for i in np.arange(10_000):\n",
    "    shuffled_weights = p_df.loc[p_df.sex == \"m\"].sample(frac=1, replace = False).tail_l.values\n",
    "    shuffled_df=pd.DataFrame({\"Shuffled Weights\": shuffled_weights, \"Site\": p_df.loc[p_df.sex == \"m\"].site})\n",
    "    shuffled_df.Site = np.where((shuffled_df.Site == 2) | (shuffled_df.Site == 1), 1,0)\n",
    "    smeans_df=shuffled_df.groupby('Site').mean()\n",
    "    new_diff=smeans_df.iloc[1]-smeans_df.iloc[0] \n",
    "    differences = np.append(differences, new_diff)\n",
    "\n",
    "df = p_df.loc[p_df.sex == \"m\"][[\"tail_l\", \"site\"]]\n",
    "df.site = np.where((df.site == 2) | (df.site == 1), 1,0)\n",
    "observed_means = df.groupby('site').mean()[\"tail_l\"]\n",
    "print(observed_means)\n",
    "observed_difference = observed_means[1] - observed_means[0]\n",
    "empirical_P = (np.count_nonzero(differences >= observed_difference) + np.count_nonzero(differences <= -observed_difference)) / 10000\n",
    "\n",
    "pd.DataFrame({'Difference Between Group Averages': differences}).plot.hist()\n",
    "plt.axvline(x=observed_difference, color='red', linestyle='dashed', linewidth='3')\n",
    "plt.title('Prediction Under the Null Hypothesis')\n",
    "plt.xlabel(\"Difference\")\n",
    "print('Observed Difference:', observed_difference)\n",
    "print('Empirical P-value:', empirical_P)\n"
   ]
  },
  {
   "cell_type": "markdown",
   "metadata": {},
   "source": [
    "**Question 4.** Write code that constructs a 2x2 table that shows the counts of sex (female and male) in the two sites (Victoria and other)"
   ]
  },
  {
   "cell_type": "code",
   "execution_count": 18,
   "metadata": {
    "scrolled": true
   },
   "outputs": [
    {
     "data": {
      "text/html": [
       "<div>\n",
       "<style scoped>\n",
       "    .dataframe tbody tr th:only-of-type {\n",
       "        vertical-align: middle;\n",
       "    }\n",
       "\n",
       "    .dataframe tbody tr th {\n",
       "        vertical-align: top;\n",
       "    }\n",
       "\n",
       "    .dataframe thead th {\n",
       "        text-align: right;\n",
       "    }\n",
       "</style>\n",
       "<table border=\"1\" class=\"dataframe\">\n",
       "  <thead>\n",
       "    <tr style=\"text-align: right;\">\n",
       "      <th>Sex</th>\n",
       "      <th>f</th>\n",
       "      <th>m</th>\n",
       "    </tr>\n",
       "    <tr>\n",
       "      <th>Site</th>\n",
       "      <th></th>\n",
       "      <th></th>\n",
       "    </tr>\n",
       "  </thead>\n",
       "  <tbody>\n",
       "    <tr>\n",
       "      <th>Other</th>\n",
       "      <td>19</td>\n",
       "      <td>39</td>\n",
       "    </tr>\n",
       "    <tr>\n",
       "      <th>Victoria</th>\n",
       "      <td>24</td>\n",
       "      <td>22</td>\n",
       "    </tr>\n",
       "  </tbody>\n",
       "</table>\n",
       "</div>"
      ],
      "text/plain": [
       "Sex        f   m\n",
       "Site            \n",
       "Other     19  39\n",
       "Victoria  24  22"
      ]
     },
     "execution_count": 18,
     "metadata": {},
     "output_type": "execute_result"
    }
   ],
   "source": [
    "# code here\n",
    "df4=pd.DataFrame({\"Sex\": p_df.sex, \"Site\": p_df.site})\n",
    "df4.Site = np.where((df4.Site == 2) | (df4.Site == 1), \"Victoria\",\"Other\")\n",
    "df4 = pd.crosstab(df4['Site'], df4['Sex'])\n",
    "df4"
   ]
  },
  {
   "cell_type": "markdown",
   "metadata": {},
   "source": [
    "**Question 5.** Investigate the hypothesis that the porportion of males to females is equal in the two sites (perform a hypothesis test on the table you constructed in Question 4 using the permutation method). State clearly the null and alternative hypothesis. After you perform the test and report the p-value, briefly talk about the assumptions in your test."
   ]
  },
  {
   "cell_type": "code",
   "execution_count": 21,
   "metadata": {},
   "outputs": [
    {
     "name": "stdout",
     "output_type": "stream",
     "text": [
      "Observed Difference: -1.135964912280702\n",
      "Empirical P-value: 0.9726\n"
     ]
    },
    {
     "data": {
      "image/png": "[encoded data removed]",
      "text/plain": [
       "<Figure size 432x288 with 1 Axes>"
      ]
     },
     "metadata": {},
     "output_type": "display_data"
    }
   ],
   "source": [
    "# code here\n",
    "differences = np.array([])\n",
    "\n",
    "for i in np.arange(5000):\n",
    "    shuffled_weights = p_df.sample(frac=1, replace = False).sex.values\n",
    "    shuffled_df=pd.DataFrame({\"Sex\": shuffled_weights, \"Site\": p_df.site})\n",
    "    shuffled_df.Site = np.where((shuffled_df.Site == 2) | (shuffled_df.Site == 1), 1,0)\n",
    "    v_m = shuffled_df.loc[(shuffled_df.Site == 1) & (shuffled_df.Sex == 'm')].shape[0]\n",
    "    v_f = shuffled_df.loc[(shuffled_df.Site == 1) & (shuffled_df.Sex == 'f')].shape[0]\n",
    "    o_m = shuffled_df.loc[(shuffled_df.Site == 0) & (shuffled_df.Sex == 'm')].shape[0]\n",
    "    o_f = shuffled_df.loc[(shuffled_df.Site == 0) & (shuffled_df.Sex == 'f')].shape[0]\n",
    "    new_diff=v_m/v_f - o_m/o_f\n",
    "    differences = np.append(differences, new_diff)\n",
    "\n",
    "observed_difference = df4.m[1]/df4.f[1] - df4.m[0]/df4.f[0]\n",
    "empirical_P = (np.count_nonzero(differences >= observed_difference) + np.count_nonzero(differences <= -observed_difference)) / 10000\n",
    "\n",
    "pd.DataFrame({'Difference Between Group Averages': differences}).plot.hist()\n",
    "plt.axvline(x=observed_difference, color='red', linestyle='dashed', linewidth='3')\n",
    "plt.title('Prediction Under the Null Hypothesis')\n",
    "plt.xlabel(\"Difference\")\n",
    "print('Observed Difference:', observed_difference)\n",
    "print('Empirical P-value:', empirical_P)\n"
   ]
  },
  {
   "cell_type": "markdown",
   "metadata": {},
   "source": [
    "*Null Hypothesis:* The proportion of males to females is equal in both sites<br>\n",
    "*Alternative Hypothesis:* The proportion of males to females is not equal in both sites<br>\n",
    "*Assumptions:* We are assuming that the observations are exchangeable"
   ]
  },
  {
   "cell_type": "markdown",
   "metadata": {},
   "source": [
    "## 2. Plagiarism detector (25 points) \n",
    "\n",
    "We will use the matching techniques discussed in Lecture 16 to construct **a naive plagiarism detector**. We modified the code from the class notebook in two ways: (i) we generalized it to q-character tokens; and (ii) we use spaces instead of #-signs to pad the ends of the strings.\n",
    "\n",
    "This code allows you to calculate the Jaccard similarity for bigrams, trigrams etc."
   ]
  },
  {
   "cell_type": "code",
   "execution_count": 107,
   "metadata": {},
   "outputs": [],
   "source": [
    "#A Function to break a string into qgrams (q-character tokens)\n",
    "#we'll pad the string with spaces on the front and end\n",
    "def qgram(str,q):\n",
    "    str = ' ' + str + ' '\n",
    "    return([str[i:i+q] for i in range(len(str)-(q-1))])\n",
    "\n",
    "#compute the jaccard similarity of two strings using qgrams\n",
    "#pass in a value for q to do anything other than bi-grams\n",
    "#call jaccard_simq with verbose set to True to see intermediate values\n",
    "\n",
    "def jaccard_simq(str1, str2,q=2,verbose=False): \n",
    "    set1 = set(qgram(str1,q)) \n",
    "    set2 = set(qgram(str2,q))\n",
    "    common_tokens = set1.intersection(set2)\n",
    "    all_tokens = set1.union(set2)\n",
    "    if verbose:\n",
    "        print('set1 =',set1)\n",
    "        print('set2 =',set2)\n",
    "        print('Intersection =',common_tokens)\n",
    "        print('Union =',all_tokens)\n",
    "        print('Common Tokens =',len(common_tokens),\n",
    "              'Total Tokens =',len(all_tokens))\n",
    "    return float(len(common_tokens) / len(all_tokens))\n"
   ]
  },
  {
   "cell_type": "markdown",
   "metadata": {},
   "source": [
    "To familiarize yourself with the function, you should try it on several examples and with different values of q. The `verbose=True` option is useful when you want to understand what the function is doing."
   ]
  },
  {
   "cell_type": "code",
   "execution_count": 108,
   "metadata": {},
   "outputs": [
    {
     "name": "stdout",
     "output_type": "stream",
     "text": [
      "set1 = {'ox', 'wn', 'e ', 'fo', ' q', 'k ', 'br', 'ow', 'qu', 'he', ' t', 'x ', 'ic', ' b', 'ro', 'ck', 'n ', ' f', 'ui', 'th'}\n",
      "set2 = {'ox', 'wn', 'e ', 'fo', ' q', 'k ', 'br', 'ow', 'qu', 'he', ' t', 'x ', 'ic', ' b', 'ro', ' f', 'ck', 'n ', 'ui', 'th'}\n",
      "Intersection = {'ox', 'wn', 'e ', 'fo', ' q', 'k ', 'br', 'ow', 'qu', 'he', ' t', 'x ', 'ic', ' b', 'ro', ' f', 'ck', 'n ', 'ui', 'th'}\n",
      "Union = {'ox', 'wn', 'e ', 'fo', ' q', 'k ', 'br', 'ow', 'qu', 'he', ' t', 'x ', 'ic', ' b', 'ro', 'ck', 'n ', ' f', 'ui', 'th'}\n",
      "Common Tokens = 20 Total Tokens = 20\n"
     ]
    },
    {
     "data": {
      "text/plain": [
       "1.0"
      ]
     },
     "execution_count": 108,
     "metadata": {},
     "output_type": "execute_result"
    }
   ],
   "source": [
    "jaccard_simq('the quick brown fox','fox quick brown the',verbose=True)"
   ]
  },
  {
   "cell_type": "code",
   "execution_count": 109,
   "metadata": {
    "scrolled": true
   },
   "outputs": [
    {
     "data": {
      "text/plain": [
       "1.0"
      ]
     },
     "execution_count": 109,
     "metadata": {},
     "output_type": "execute_result"
    }
   ],
   "source": [
    "jaccard_simq('the quick brown fox','fox quick brown the')"
   ]
  },
  {
   "cell_type": "code",
   "execution_count": 110,
   "metadata": {
    "scrolled": true
   },
   "outputs": [
    {
     "name": "stdout",
     "output_type": "stream",
     "text": [
      "set1 = {'the ', 'ick ', ' bro', 'rown', 'quic', 'ck b', 'e qu', 'wn f', 'uick', 'n fo', ' the', ' fox', 'fox ', 'he q', 'k br', ' qui', 'brow', 'own '}\n",
      "set2 = {'ick ', ' bro', 'rown', 'ox q', 'the ', 'n th', 'quic', 'ck b', 'x qu', 'uick', ' the', 'fox ', ' fox', 'wn t', 'k br', ' qui', 'brow', 'own '}\n",
      "Intersection = {'ick ', 'the ', ' bro', ' qui', 'quic', 'uick', ' the', 'fox ', 'brow', ' fox', 'k br', 'ck b', 'rown', 'own '}\n",
      "Union = {'ick ', 'e qu', 'wn f', ' fox', 'k br', ' qui', 'own ', 'the ', ' bro', 'ox q', 'n th', 'quic', 'x qu', 'n fo', 'uick', ' the', 'fox ', 'brow', 'he q', 'wn t', 'ck b', 'rown'}\n",
      "Common Tokens = 14 Total Tokens = 22\n"
     ]
    },
    {
     "data": {
      "text/plain": [
       "0.6363636363636364"
      ]
     },
     "execution_count": 110,
     "metadata": {},
     "output_type": "execute_result"
    }
   ],
   "source": [
    "jaccard_simq('the quick brown fox','fox quick brown the',4,True)"
   ]
  },
  {
   "cell_type": "code",
   "execution_count": 111,
   "metadata": {},
   "outputs": [
    {
     "data": {
      "text/plain": [
       "0.2"
      ]
     },
     "execution_count": 111,
     "metadata": {},
     "output_type": "execute_result"
    }
   ],
   "source": [
    "jaccard_simq('the quick brown fox','fox quick brown the',10)"
   ]
  },
  {
   "cell_type": "markdown",
   "metadata": {},
   "source": [
    "The goal of this exercise is to use this function to investigate possible plagiarism in a homework assignment. A homework question asked students to define PageRank. The instructors were worried that the students will copy the answer from Wikipedia, so they decided to use that as a reference. The relevant part of the Wikipedia entry is saved in the file `original.txt` and the command below reads that file into a string."
   ]
  },
  {
   "cell_type": "code",
   "execution_count": 112,
   "metadata": {
    "scrolled": true
   },
   "outputs": [
    {
     "data": {
      "text/plain": [
       "'PageRank is a link analysis algorithm used by the Google Internet search engine that assigns a numerical weighting to each element of a hyperlinked set of documents, such as the World Wide Web, with the purpose of \"measuring\" its relative importance within the set. The algorithm may be applied to any collection of entities with reciprocal quotations and references. The numerical weight that it assigns to any given element E is also called the PageRank of E and denoted by PR(E).\\nThe name \"PageRank\" is a trademark of Google, and the PageRank process has been patented (U.S. Patent 6,285,999 ). However, the patent is assigned to Stanford University and not to Google. Google has exclusive license rights on the patent from Stanford University. The university received 1.8 million shares in Google in exchange for use of the patent; the shares were sold in 2005 for $336 million.\\nGoogle describes PageRank:\\n\" \\tPageRank relies on the uniquely democratic nature of the web by using its vast link structure as an indicator of an individual page\\'s value. In essence, Google interprets a link from page A to page B as a vote, by page A, for page B. But, Google looks at more than the sheer volume of votes, or links a page receives; it also analyzes the page that casts the vote. Votes cast by pages that are themselves \"important\" weigh more heavily and help to make other pages \"important\". \\t\"\\nIn other words, a PageRank results from a \"ballot\" among all the other pages on the World Wide Web about how important a page is. A hyperlink to a page counts as a vote of support. The PageRank of a page is defined recursively and depends on the number and PageRank metric of all pages that link to it (\"incoming links\"). A page that is linked to by many pages with high PageRank receives a high rank itself. If there are no links to a web page there is no support for that page.\\nGoogle assigns a numeric weighting from 0-10 for each webpage on the Internet; this PageRank denotes a site’s importance in the eyes of Google. The PageRank is derived from a theoretical probability value on a logarithmic scale like the Richter Scale. The PageRank of a particular page is roughly based upon the quantity of inbound links as well as the PageRank of the pages providing the links. It is known that other factors, e.g. relevance of search words on the page and actual visits to the page reported by the Google toolbar also influence the PageRank. In order to prevent manipulation, spoofing and Spamdexing, Google provides no specific details about how other factors influence PageRank.\\nNumerous academic papers concerning PageRank have been published since Page and Brin\\'s original paper. In practice, the PageRank concept has proven to be vulnerable to manipulation, and extensive research has been devoted to identifying falsely inflated PageRank and ways to ignore links from documents with falsely inflated PageRank.\\nOther link-based ranking algorithms for Web pages include the HITS algorithm invented by Jon Kleinberg (used by Teoma and now Ask.com), the IBM CLEVER project, and the TrustRank algorithm.\\n'"
      ]
     },
     "execution_count": 112,
     "metadata": {},
     "output_type": "execute_result"
    }
   ],
   "source": [
    "open(\"original.txt\",\"r\",encoding=\"utf8\").read()"
   ]
  },
  {
   "cell_type": "markdown",
   "metadata": {},
   "source": [
    "Files containing the answer of five students (A,B,C,D, and E) are provided. They are read as strings using the code below. "
   ]
  },
  {
   "cell_type": "code",
   "execution_count": 113,
   "metadata": {},
   "outputs": [],
   "source": [
    "original=open(\"original.txt\",\"r\").read()\n",
    "studentA=open(\"studentA.txt\",\"r\").read()\n",
    "studentB=open(\"studentB.txt\",\"r\").read()\n",
    "studentC=open(\"studentC.txt\",\"r\").read()\n",
    "studentD=open(\"studentD.txt\",\"r\").read()\n",
    "studentE=open(\"studentE.txt\",\"r\").read()\n",
    "\n",
    "from collections import namedtuple\n",
    "Entry = namedtuple(\"Entry\", [\"name\", \"entry\"])\n",
    "og = Entry(name=\"original\", entry=original)\n",
    "students = [\n",
    "    Entry(name=\"studentA\", entry=studentA), \n",
    "    Entry(name=\"studentB\", entry=studentB), \n",
    "    Entry(name=\"studentC\", entry=studentC), \n",
    "    Entry(name=\"studentD\", entry=studentD), \n",
    "    Entry(name=\"studentE\", entry=studentE)\n",
    "]\n"
   ]
  },
  {
   "cell_type": "markdown",
   "metadata": {},
   "source": [
    "#### Question 1\n",
    "\n",
    "One decision to make is the choice of q in the Jaccard similarity (whether to use 2-character tokens, 20-character tokens etc.) \n",
    "\n",
    "Write one advantage and one disadvantage when using 2-character tokens.\n",
    "\n",
    "Write one advantage and one disadvantage when using 20-character tokens."
   ]
  },
  {
   "cell_type": "markdown",
   "metadata": {},
   "source": [
    "A) Advantage: will work on shorter texts\n",
    "Disadvantage: will output high numbers in a variety of the more similar cases, making them near indistinguishable\n",
    "\n",
    "B) Advantage: will only output high numbers in the most similar of cases, making them easily distinguishable\n",
    "Disadvantage: will not perform on texts shorter than 20 characters (making it useless for many cases)"
   ]
  },
  {
   "cell_type": "markdown",
   "metadata": {},
   "source": [
    "#### Question 2\n",
    "\n",
    "Calculate the Jaccard similarities between each of the five student responses and the original Wikipedia article. This should be done for all q between 2 and 20.\n",
    "\n",
    "Save the results in a dataframe with rows indexed by the values of q, and having a column for each student answer showing the similarity of that student answer and the original for each value of q.   Your dataframe should have 19 populated rows with 5 columns."
   ]
  },
  {
   "cell_type": "code",
   "execution_count": 114,
   "metadata": {},
   "outputs": [
    {
     "data": {
      "text/html": [
       "<div>\n",
       "<style scoped>\n",
       "    .dataframe tbody tr th:only-of-type {\n",
       "        vertical-align: middle;\n",
       "    }\n",
       "\n",
       "    .dataframe tbody tr th {\n",
       "        vertical-align: top;\n",
       "    }\n",
       "\n",
       "    .dataframe thead th {\n",
       "        text-align: right;\n",
       "    }\n",
       "</style>\n",
       "<table border=\"1\" class=\"dataframe\">\n",
       "  <thead>\n",
       "    <tr style=\"text-align: right;\">\n",
       "      <th></th>\n",
       "      <th>studentA</th>\n",
       "      <th>studentB</th>\n",
       "      <th>studentC</th>\n",
       "      <th>studentD</th>\n",
       "      <th>studentE</th>\n",
       "    </tr>\n",
       "    <tr>\n",
       "      <th>q</th>\n",
       "      <th></th>\n",
       "      <th></th>\n",
       "      <th></th>\n",
       "      <th></th>\n",
       "      <th></th>\n",
       "    </tr>\n",
       "  </thead>\n",
       "  <tbody>\n",
       "    <tr>\n",
       "      <th>2</th>\n",
       "      <td>0.716895</td>\n",
       "      <td>0.453831</td>\n",
       "      <td>0.448578</td>\n",
       "      <td>0.416476</td>\n",
       "      <td>0.453159</td>\n",
       "    </tr>\n",
       "    <tr>\n",
       "      <th>3</th>\n",
       "      <td>0.528974</td>\n",
       "      <td>0.268646</td>\n",
       "      <td>0.231821</td>\n",
       "      <td>0.245298</td>\n",
       "      <td>0.284252</td>\n",
       "    </tr>\n",
       "    <tr>\n",
       "      <th>4</th>\n",
       "      <td>0.458564</td>\n",
       "      <td>0.165417</td>\n",
       "      <td>0.128228</td>\n",
       "      <td>0.177585</td>\n",
       "      <td>0.200730</td>\n",
       "    </tr>\n",
       "    <tr>\n",
       "      <th>5</th>\n",
       "      <td>0.425445</td>\n",
       "      <td>0.110250</td>\n",
       "      <td>0.079319</td>\n",
       "      <td>0.151137</td>\n",
       "      <td>0.165950</td>\n",
       "    </tr>\n",
       "    <tr>\n",
       "      <th>6</th>\n",
       "      <td>0.402592</td>\n",
       "      <td>0.079199</td>\n",
       "      <td>0.048025</td>\n",
       "      <td>0.132120</td>\n",
       "      <td>0.147679</td>\n",
       "    </tr>\n",
       "    <tr>\n",
       "      <th>7</th>\n",
       "      <td>0.387472</td>\n",
       "      <td>0.055462</td>\n",
       "      <td>0.028356</td>\n",
       "      <td>0.118508</td>\n",
       "      <td>0.134567</td>\n",
       "    </tr>\n",
       "    <tr>\n",
       "      <th>8</th>\n",
       "      <td>0.375356</td>\n",
       "      <td>0.040000</td>\n",
       "      <td>0.015565</td>\n",
       "      <td>0.108605</td>\n",
       "      <td>0.125678</td>\n",
       "    </tr>\n",
       "    <tr>\n",
       "      <th>9</th>\n",
       "      <td>0.366289</td>\n",
       "      <td>0.028165</td>\n",
       "      <td>0.008412</td>\n",
       "      <td>0.100635</td>\n",
       "      <td>0.120865</td>\n",
       "    </tr>\n",
       "    <tr>\n",
       "      <th>10</th>\n",
       "      <td>0.358837</td>\n",
       "      <td>0.020438</td>\n",
       "      <td>0.003325</td>\n",
       "      <td>0.094370</td>\n",
       "      <td>0.117722</td>\n",
       "    </tr>\n",
       "    <tr>\n",
       "      <th>11</th>\n",
       "      <td>0.352172</td>\n",
       "      <td>0.015399</td>\n",
       "      <td>0.001004</td>\n",
       "      <td>0.089115</td>\n",
       "      <td>0.114178</td>\n",
       "    </tr>\n",
       "    <tr>\n",
       "      <th>12</th>\n",
       "      <td>0.346748</td>\n",
       "      <td>0.011848</td>\n",
       "      <td>0.000248</td>\n",
       "      <td>0.084352</td>\n",
       "      <td>0.111938</td>\n",
       "    </tr>\n",
       "    <tr>\n",
       "      <th>13</th>\n",
       "      <td>0.341938</td>\n",
       "      <td>0.008675</td>\n",
       "      <td>0.000000</td>\n",
       "      <td>0.079429</td>\n",
       "      <td>0.110222</td>\n",
       "    </tr>\n",
       "    <tr>\n",
       "      <th>14</th>\n",
       "      <td>0.337334</td>\n",
       "      <td>0.005575</td>\n",
       "      <td>0.000000</td>\n",
       "      <td>0.075361</td>\n",
       "      <td>0.109002</td>\n",
       "    </tr>\n",
       "    <tr>\n",
       "      <th>15</th>\n",
       "      <td>0.332185</td>\n",
       "      <td>0.003922</td>\n",
       "      <td>0.000000</td>\n",
       "      <td>0.071734</td>\n",
       "      <td>0.108199</td>\n",
       "    </tr>\n",
       "    <tr>\n",
       "      <th>16</th>\n",
       "      <td>0.327736</td>\n",
       "      <td>0.002525</td>\n",
       "      <td>0.000000</td>\n",
       "      <td>0.068568</td>\n",
       "      <td>0.107533</td>\n",
       "    </tr>\n",
       "    <tr>\n",
       "      <th>17</th>\n",
       "      <td>0.323648</td>\n",
       "      <td>0.001371</td>\n",
       "      <td>0.000000</td>\n",
       "      <td>0.065500</td>\n",
       "      <td>0.106970</td>\n",
       "    </tr>\n",
       "    <tr>\n",
       "      <th>18</th>\n",
       "      <td>0.319705</td>\n",
       "      <td>0.000455</td>\n",
       "      <td>0.000000</td>\n",
       "      <td>0.062462</td>\n",
       "      <td>0.106409</td>\n",
       "    </tr>\n",
       "    <tr>\n",
       "      <th>19</th>\n",
       "      <td>0.315580</td>\n",
       "      <td>0.000000</td>\n",
       "      <td>0.000000</td>\n",
       "      <td>0.059527</td>\n",
       "      <td>0.105978</td>\n",
       "    </tr>\n",
       "    <tr>\n",
       "      <th>20</th>\n",
       "      <td>0.311375</td>\n",
       "      <td>0.000000</td>\n",
       "      <td>0.000000</td>\n",
       "      <td>0.056632</td>\n",
       "      <td>0.105581</td>\n",
       "    </tr>\n",
       "  </tbody>\n",
       "</table>\n",
       "</div>"
      ],
      "text/plain": [
       "    studentA  studentB  studentC  studentD  studentE\n",
       "q                                                   \n",
       "2   0.716895  0.453831  0.448578  0.416476  0.453159\n",
       "3   0.528974  0.268646  0.231821  0.245298  0.284252\n",
       "4   0.458564  0.165417  0.128228  0.177585  0.200730\n",
       "5   0.425445  0.110250  0.079319  0.151137  0.165950\n",
       "6   0.402592  0.079199  0.048025  0.132120  0.147679\n",
       "7   0.387472  0.055462  0.028356  0.118508  0.134567\n",
       "8   0.375356  0.040000  0.015565  0.108605  0.125678\n",
       "9   0.366289  0.028165  0.008412  0.100635  0.120865\n",
       "10  0.358837  0.020438  0.003325  0.094370  0.117722\n",
       "11  0.352172  0.015399  0.001004  0.089115  0.114178\n",
       "12  0.346748  0.011848  0.000248  0.084352  0.111938\n",
       "13  0.341938  0.008675  0.000000  0.079429  0.110222\n",
       "14  0.337334  0.005575  0.000000  0.075361  0.109002\n",
       "15  0.332185  0.003922  0.000000  0.071734  0.108199\n",
       "16  0.327736  0.002525  0.000000  0.068568  0.107533\n",
       "17  0.323648  0.001371  0.000000  0.065500  0.106970\n",
       "18  0.319705  0.000455  0.000000  0.062462  0.106409\n",
       "19  0.315580  0.000000  0.000000  0.059527  0.105978\n",
       "20  0.311375  0.000000  0.000000  0.056632  0.105581"
      ]
     },
     "execution_count": 114,
     "metadata": {},
     "output_type": "execute_result"
    }
   ],
   "source": [
    "# put your code to create and output the dataframe here\n",
    "pre_df = {'q': np.arange(2, 21)}\n",
    "for student in students:\n",
    "    vals = []\n",
    "    for q in pre_df['q']:\n",
    "        vals.append(jaccard_simq(og.entry, student.entry, q))\n",
    "    pre_df[student.name] = vals\n",
    "\n",
    "jacc_df = pd.DataFrame(pre_df)\n",
    "jacc_df.set_index('q', inplace=True)\n",
    "jacc_df"
   ]
  },
  {
   "cell_type": "markdown",
   "metadata": {},
   "source": [
    "#### Question 3\n",
    "\n",
    "Draw a plot with five overlaid lines for the Jaccard similarities of the five texts. The plot should show the Jaccard similarities (on y-axis) against q (on x-axis). Make sure that it is clear which line corresponds to which student/answer."
   ]
  },
  {
   "cell_type": "code",
   "execution_count": 115,
   "metadata": {},
   "outputs": [
    {
     "data": {
      "text/plain": [
       "<AxesSubplot:title={'center':'Student-Wiki Jaccard Similarity by Q-Value'}, xlabel='q', ylabel='Jaccard Similarity'>"
      ]
     },
     "execution_count": 115,
     "metadata": {},
     "output_type": "execute_result"
    },
    {
     "data": {
      "image/png": "[encoded data removed]",
      "text/plain": [
       "<Figure size 432x288 with 1 Axes>"
      ]
     },
     "metadata": {},
     "output_type": "display_data"
    }
   ],
   "source": [
    "# the code to draw the plot\n",
    "jacc_df.plot(kind='line', xticks=np.arange(2, 20, 2), ylabel=\"Jaccard Similarity\", title=\"Student-Wiki Jaccard Similarity by Q-Value\")"
   ]
  },
  {
   "cell_type": "markdown",
   "metadata": {},
   "source": [
    "#### Question 4\n",
    "\n",
    "What do the similarity values you calculated say about the five students (A,B,C, D and E)? Is there evidence for plagiarism for any of them? Write a short discussion of your findings.\n"
   ]
  },
  {
   "cell_type": "markdown",
   "metadata": {},
   "source": [
    "With the exception of q-values <= 4, similarity values of students B, C, D, and E are generally low, with students B and C flattening out to at 0.0 jaccard similarity and students D and E flattening out to below 0.12 jaccard similarity. Student A can be highlighted as a potential suspect of plagiarism as their jaccard similarity, even at relatively high token lengths, still is above 0.4 which is already a very sizeable similarity value. If I was a professor viewing these results, I would absolutely have concerns about the legitimacy of Student A's paper, but not of the others."
   ]
  },
  {
   "cell_type": "markdown",
   "metadata": {},
   "source": [
    "#### Question 5\n",
    "\n",
    "Assume that the original text is fixed, but that different amounts of it are plagiarized.  How does the length of the plagiarized text impact the Jaccard similarities? For example, would a plagiarized short paper (1-2 sentences) typically have a different Jaccard similarity than a plagiarized long paper (few paragraphs)? Is this important for our five student scenario?\n",
    "\n",
    "This is an open-ended question. You can answer it by changing the length of a plagiarized text and calculating similarities, you can argue it mathematically, or you can do some combination of these. \n",
    "\n"
   ]
  },
  {
   "cell_type": "code",
   "execution_count": 116,
   "metadata": {},
   "outputs": [
    {
     "name": "stdout",
     "output_type": "stream",
     "text": [
      "0.32417274256870443\n",
      "0.5852017937219731\n",
      "1.0\n"
     ]
    }
   ],
   "source": [
    "# if you use code to make your argument put it here\n",
    "plagiarized = og.entry\n",
    "textlen = len(plagiarized)\n",
    "plagiarized_short = plagiarized[:textlen // 4]\n",
    "plagiarized_medium = plagiarized[:textlen // 2]\n",
    "plagiarized_long = plagiarized[:]\n",
    "\n",
    "print(jaccard_simq(plagiarized, plagiarized_short, 4))\n",
    "print(jaccard_simq(plagiarized, plagiarized_medium, 4))\n",
    "print(jaccard_simq(plagiarized, plagiarized_long, 4))"
   ]
  },
  {
   "cell_type": "markdown",
   "metadata": {},
   "source": [
    "The longer the length of plagiarized text, the higher the value will be. This is important for our five student scenario as if a student wrote a shorter response that was entirely plagiarized it could potentially be missed when it should not be."
   ]
  }
 ],
 "metadata": {
  "kernelspec": {
   "display_name": "Python 3",
   "language": "python",
   "name": "python3"
  },
  "language_info": {
   "codemirror_mode": {
    "name": "ipython",
    "version": 3
   },
   "file_extension": ".py",
   "mimetype": "text/x-python",
   "name": "python",
   "nbconvert_exporter": "python",
   "pygments_lexer": "ipython3",
   "version": "3.9.13"
  }
 },
 "nbformat": 4,
 "nbformat_minor": 4
}
